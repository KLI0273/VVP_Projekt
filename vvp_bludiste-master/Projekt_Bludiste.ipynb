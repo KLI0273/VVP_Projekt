{
 "cells": [
  {
   "cell_type": "code",
   "execution_count": 37,
   "metadata": {},
   "outputs": [],
   "source": [
    "#import vvp_project_support as sup\n",
    "from vvp_project_support import load_document\n"
   ]
  },
  {
   "cell_type": "code",
   "execution_count": 39,
   "metadata": {},
   "outputs": [
    {
     "ename": "FileNotFoundError",
     "evalue": "[Errno 2] No such file or directory: 'vvp_bludiste-master/data/maze_1.csv'",
     "output_type": "error",
     "traceback": [
      "\u001b[1;31m---------------------------------------------------------------------------\u001b[0m",
      "\u001b[1;31mFileNotFoundError\u001b[0m                         Traceback (most recent call last)",
      "Cell \u001b[1;32mIn[39], line 1\u001b[0m\n\u001b[1;32m----> 1\u001b[0m maze \u001b[39m=\u001b[39m load_document()\n\u001b[0;32m      2\u001b[0m \u001b[39mprint\u001b[39m(maze)\n",
      "File \u001b[1;32mc:\\MK\\VS Code\\VVP_Projekt\\vvp_bludiste-master\\vvp_project_support.py:7\u001b[0m, in \u001b[0;36mload_document\u001b[1;34m()\u001b[0m\n\u001b[0;32m      5\u001b[0m \u001b[39mdef\u001b[39;00m \u001b[39mload_document\u001b[39m():\n\u001b[0;32m      6\u001b[0m     \u001b[39m#data = open(f'{string}', 'r')\u001b[39;00m\n\u001b[1;32m----> 7\u001b[0m     data \u001b[39m=\u001b[39m \u001b[39mopen\u001b[39;49m(\u001b[39m'\u001b[39;49m\u001b[39mvvp_bludiste-master/data/maze_1.csv\u001b[39;49m\u001b[39m'\u001b[39;49m, \u001b[39m'\u001b[39;49m\u001b[39mr\u001b[39;49m\u001b[39m'\u001b[39;49m)\n\u001b[0;32m      8\u001b[0m     soubor \u001b[39m=\u001b[39m csv\u001b[39m.\u001b[39mreader(data, delimiter\u001b[39m=\u001b[39m\u001b[39m'\u001b[39m\u001b[39m,\u001b[39m\u001b[39m'\u001b[39m)\n\u001b[0;32m      9\u001b[0m     maze \u001b[39m=\u001b[39m []\n",
      "\u001b[1;31mFileNotFoundError\u001b[0m: [Errno 2] No such file or directory: 'vvp_bludiste-master/data/maze_1.csv'"
     ]
    }
   ],
   "source": [
    "maze = load_document()\n",
    "print(maze)"
   ]
  }
 ],
 "metadata": {
  "kernelspec": {
   "display_name": "Python 3",
   "language": "python",
   "name": "python3"
  },
  "language_info": {
   "codemirror_mode": {
    "name": "ipython",
    "version": 3
   },
   "file_extension": ".py",
   "mimetype": "text/x-python",
   "name": "python",
   "nbconvert_exporter": "python",
   "pygments_lexer": "ipython3",
   "version": "3.10.11"
  },
  "orig_nbformat": 4
 },
 "nbformat": 4,
 "nbformat_minor": 2
}
