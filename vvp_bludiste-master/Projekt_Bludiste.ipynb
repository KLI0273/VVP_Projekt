{
 "cells": [
  {
   "cell_type": "code",
   "execution_count": 73,
   "metadata": {},
   "outputs": [
    {
     "ename": "TypeError",
     "evalue": "load_document() takes 0 positional arguments but 1 was given",
     "output_type": "error",
     "traceback": [
      "\u001b[1;31m---------------------------------------------------------------------------\u001b[0m",
      "\u001b[1;31mTypeError\u001b[0m                                 Traceback (most recent call last)",
      "Cell \u001b[1;32mIn[73], line 2\u001b[0m\n\u001b[0;32m      1\u001b[0m \u001b[39mfrom\u001b[39;00m \u001b[39mvvp_project_support\u001b[39;00m \u001b[39mimport\u001b[39;00m load_document\n\u001b[1;32m----> 2\u001b[0m maze \u001b[39m=\u001b[39m load_document(\u001b[39m'\u001b[39;49m\u001b[39mdata/maze_1.csv\u001b[39;49m\u001b[39m'\u001b[39;49m)\n\u001b[0;32m      3\u001b[0m \u001b[39mprint\u001b[39m(maze)\n",
      "\u001b[1;31mTypeError\u001b[0m: load_document() takes 0 positional arguments but 1 was given"
     ]
    }
   ],
   "source": [
    "from vvp_project_support import load_document\n",
    "maze = load_document('data/maze_1.csv')\n",
    "print(maze)"
   ]
  },
  {
   "cell_type": "code",
   "execution_count": 67,
   "metadata": {},
   "outputs": [
    {
     "ename": "TypeError",
     "evalue": "load_document() takes 0 positional arguments but 1 was given",
     "output_type": "error",
     "traceback": [
      "\u001b[1;31m---------------------------------------------------------------------------\u001b[0m",
      "\u001b[1;31mTypeError\u001b[0m                                 Traceback (most recent call last)",
      "Cell \u001b[1;32mIn[67], line 2\u001b[0m\n\u001b[0;32m      1\u001b[0m \u001b[39mfrom\u001b[39;00m \u001b[39mvvp_project_support\u001b[39;00m \u001b[39mimport\u001b[39;00m load_document\n\u001b[1;32m----> 2\u001b[0m maze \u001b[39m=\u001b[39m load_document(\u001b[39m'\u001b[39;49m\u001b[39mdata/maze_1.csv\u001b[39;49m\u001b[39m'\u001b[39;49m)\n\u001b[0;32m      3\u001b[0m \u001b[39mprint\u001b[39m(maze)\n",
      "\u001b[1;31mTypeError\u001b[0m: load_document() takes 0 positional arguments but 1 was given"
     ]
    }
   ],
   "source": [
    "from vvp_project_support import load_document\n",
    "maze = load_document('data/maze_1.csv')\n",
    "print(maze)"
   ]
  },
  {
   "cell_type": "code",
   "execution_count": 52,
   "metadata": {},
   "outputs": [
    {
     "name": "stdout",
     "output_type": "stream",
     "text": [
      " Volume in drive C is Windows\n",
      " Volume Serial Number is 14E2-59DD\n",
      "\n",
      " Directory of c:\\MK\\VS Code\\VVP_Projekt\\vvp_bludiste-master\n",
      "\n",
      "04/05/2023  11:43    <DIR>          .\n",
      "04/05/2023  11:43    <DIR>          ..\n",
      "04/05/2023  11:43    <DIR>          __pycache__\n",
      "18/04/2023  16:19    <DIR>          data\n",
      "04/05/2023  14:14             2,445 Projekt_Bludiste.ipynb\n",
      "04/05/2023  14:14               460 vvp_project_support.py\n",
      "               2 File(s)          2,905 bytes\n",
      "               4 Dir(s)  213,518,299,136 bytes free\n"
     ]
    }
   ],
   "source": [
    "%ls"
   ]
  }
 ],
 "metadata": {
  "kernelspec": {
   "display_name": "Python 3",
   "language": "python",
   "name": "python3"
  },
  "language_info": {
   "codemirror_mode": {
    "name": "ipython",
    "version": 3
   },
   "file_extension": ".py",
   "mimetype": "text/x-python",
   "name": "python",
   "nbconvert_exporter": "python",
   "pygments_lexer": "ipython3",
   "version": "3.10.11"
  },
  "orig_nbformat": 4
 },
 "nbformat": 4,
 "nbformat_minor": 2
}
