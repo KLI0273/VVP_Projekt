{
 "cells": [
  {
   "cell_type": "code",
   "execution_count": 1,
   "metadata": {},
   "outputs": [],
   "source": [
    "import vvp_project_support as sup\n",
    "\n",
    "import networkx as nx\n",
    "import matplotlib.pyplot as plt\n",
    "import numpy as np\n",
    "from scipy.sparse import csr_matrix"
   ]
  },
  {
   "cell_type": "code",
   "execution_count": 2,
   "metadata": {},
   "outputs": [],
   "source": [
    "def create_path_matrix(maze, path):\n",
    "    # Vytvoření matice nul stejného rozměru jako matice s bludištěm\n",
    "    path_matrix = np.zeros(maze.shape)\n",
    "\n",
    "    # Projděte cestu a přidejte hrany mezi sousedními uzly\n",
    "    for i in range(len(path)-1):\n",
    "        current = path[i]\n",
    "        next_node = path[i+1]\n",
    "        path_matrix[current[0], current[1]] = 1\n",
    "        path_matrix[next_node[0], next_node[1]] = 1\n",
    "\n",
    "    # Nastavte hodnotu 1 pro průchozí uzly (bunky na cestě), 0 jinak\n",
    "    path_matrix[maze] = path_matrix[maze].astype(int)\n",
    "\n",
    "    return path_matrix"
   ]
  },
  {
   "cell_type": "code",
   "execution_count": 8,
   "metadata": {},
   "outputs": [
    {
     "name": "stdout",
     "output_type": "stream",
     "text": [
      "[[1. 0. 0. 0.]\n",
      " [0. 0. 0. 0.]\n",
      " [0. 0. 0. 0.]\n",
      " [1. 1. 0. 0.]\n",
      " [0. 1. 1. 0.]\n",
      " [0. 0. 1. 1.]\n",
      " [0. 0. 0. 0.]\n",
      " [0. 0. 0. 0.]\n",
      " [0. 0. 0. 1.]]\n"
     ]
    },
    {
     "ename": "ValueError",
     "evalue": "list.remove(x): x not in list",
     "output_type": "error",
     "traceback": [
      "\u001b[1;31m---------------------------------------------------------------------------\u001b[0m",
      "\u001b[1;31mValueError\u001b[0m                                Traceback (most recent call last)",
      "Cell \u001b[1;32mIn[8], line 39\u001b[0m\n\u001b[0;32m     37\u001b[0m inc \u001b[39m=\u001b[39m sup\u001b[39m.\u001b[39mincidence_matrix(maze)\n\u001b[0;32m     38\u001b[0m \u001b[39mprint\u001b[39m(inc)\n\u001b[1;32m---> 39\u001b[0m dijkstra(inc,maze)\n\u001b[0;32m     40\u001b[0m \u001b[39m#sup.draw_nx_graph(inc)\u001b[39;00m\n",
      "Cell \u001b[1;32mIn[8], line 24\u001b[0m, in \u001b[0;36mdijkstra\u001b[1;34m(inc_mat, maze)\u001b[0m\n\u001b[0;32m     22\u001b[0m g_idx \u001b[39m=\u001b[39m get_idx(idx,connection)\n\u001b[0;32m     23\u001b[0m \u001b[39m#if(g_idx == 0): continue\u001b[39;00m\n\u001b[1;32m---> 24\u001b[0m unvisited\u001b[39m.\u001b[39;49mremove(idx)\n",
      "\u001b[1;31mValueError\u001b[0m: list.remove(x): x not in list"
     ]
    }
   ],
   "source": [
    "def dijkstra(inc_mat,maze):\n",
    "    n,m = np.shape(inc_mat)\n",
    "\n",
    "    result = np.zeros((2,n*n))\n",
    "    result[1,:] = np.ones(n*n)*n*n #distance\n",
    "    result[1,0] = 0\n",
    "    unvisited = [i for i in range(n*n)]\n",
    "    connection = []\n",
    "    for j in range(m):\n",
    "        col_slice = inc_mat[:,j]\n",
    "        idx = [q for q, x in enumerate(col_slice) if x == 1]\n",
    "        connection.append(idx)\n",
    "    \n",
    "    while(unvisited[-1] == n*n-1):\n",
    "\n",
    "        dst = n*n\n",
    "        idx = 0\n",
    "        for i in unvisited:\n",
    "            if result[1,i] < dst:\n",
    "                dst = result[1,i]\n",
    "                idx = i\n",
    "        g_idx = get_idx(idx,connection)\n",
    "        unvisited.remove(idx)\n",
    "        \n",
    "\n",
    "def get_idx(idx, connection):\n",
    "    gen = [c for c in connection if c[0] == idx  or c[1] == idx]\n",
    "    gen = [c[1] if c[0] == idx else c[0] for c in gen]\n",
    "    return gen\n",
    "\n",
    "\n",
    "\n",
    "\n",
    "\n",
    "maze = sup.load_document('data/maze_0.csv')\n",
    "inc = sup.incidence_matrix(maze)\n",
    "print(inc)\n",
    "dijkstra(inc,maze)\n",
    "#sup.draw_nx_graph(inc)"
   ]
  },
  {
   "cell_type": "code",
   "execution_count": 19,
   "metadata": {},
   "outputs": [
    {
     "name": "stdout",
     "output_type": "stream",
     "text": [
      "160\n"
     ]
    },
    {
     "data": {
      "image/png": "[encoded data removed]",
      "text/plain": [
       "<Figure size 640x480 with 1 Axes>"
      ]
     },
     "metadata": {},
     "output_type": "display_data"
    }
   ],
   "source": [
    "maze = sup.load_document('data/maze_2.csv')\n",
    "n_nodes = np.sum(~maze)\n",
    "print(n_nodes)\n",
    "plt.imshow(maze, cmap='magma_r')\n",
    "plt.show()"
   ]
  }
 ],
 "metadata": {
  "kernelspec": {
   "display_name": "Python 3",
   "language": "python",
   "name": "python3"
  },
  "language_info": {
   "codemirror_mode": {
    "name": "ipython",
    "version": 3
   },
   "file_extension": ".py",
   "mimetype": "text/x-python",
   "name": "python",
   "nbconvert_exporter": "python",
   "pygments_lexer": "ipython3",
   "version": "3.10.11"
  },
  "orig_nbformat": 4
 },
 "nbformat": 4,
 "nbformat_minor": 2
}
